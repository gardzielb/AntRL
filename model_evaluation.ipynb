{
 "cells": [
  {
   "cell_type": "code",
   "execution_count": 1,
   "outputs": [
    {
     "name": "stderr",
     "output_type": "stream",
     "text": [
      "c:\\users\\barto\\devel\\repos\\pycharmprojects\\antrl\\venv\\lib\\site-packages\\gymnasium\\envs\\registration.py:498: UserWarning: \u001B[33mWARN: Overriding environment GymV26Environment-v0 already in registry.\u001B[0m\n",
      "  logger.warn(f\"Overriding environment {new_spec.id} already in registry.\")\n"
     ]
    }
   ],
   "source": [
    "import gymnasium as gym\n",
    "import gymnasium\n",
    "import sys\n",
    "\n",
    "sys.modules[\"gym\"] = gymnasium\n",
    "from stable_baselines3.common.evaluation import evaluate_policy"
   ],
   "metadata": {
    "collapsed": false
   }
  },
  {
   "cell_type": "markdown",
   "source": [
    "# SAC"
   ],
   "metadata": {
    "collapsed": false
   }
  },
  {
   "cell_type": "code",
   "execution_count": 2,
   "outputs": [
    {
     "name": "stdout",
     "output_type": "stream",
     "text": [
      "Mean = 3122.2667244, std = 1028.8135609221376\n"
     ]
    }
   ],
   "source": [
    "from stable_baselines3 import SAC\n",
    "\n",
    "env = gym.make('Ant-v4')\n",
    "observation, info = env.reset(seed = 42)\n",
    "\n",
    "model = SAC.load(\"results/SAC/ant_big.zip\", env = env, device = 'cuda', verbose = 1)\n",
    "obs, _ = env.reset()\n",
    "\n",
    "mean, std = evaluate_policy(model, env = model.get_env(), n_eval_episodes = 10, render = False)\n",
    "print(f'Mean = {mean}, std = {std}')"
   ],
   "metadata": {
    "collapsed": false
   }
  },
  {
   "cell_type": "markdown",
   "source": [
    "# ARS healthy reward = 0.85"
   ],
   "metadata": {
    "collapsed": false
   }
  },
  {
   "cell_type": "code",
   "execution_count": 5,
   "outputs": [
    {
     "name": "stdout",
     "output_type": "stream",
     "text": [
      "Mean = 3.019022000000001, std = 16.871594020617714\n"
     ]
    }
   ],
   "source": [
    "from sb3_contrib import ARS\n",
    "\n",
    "env = gym.make('Ant-v4')\n",
    "observation, info = env.reset(seed = 2137)\n",
    "\n",
    "model = ARS.load(\"results/ARS/ant_ars_5M_h0.85.zip\", env = env, device = 'cuda', verbose = 1)\n",
    "obs, _ = env.reset()\n",
    "\n",
    "mean, std = evaluate_policy(model, env = model.get_env(), n_eval_episodes = 10, render = False)\n",
    "print(f'Mean = {mean}, std = {std}')"
   ],
   "metadata": {
    "collapsed": false
   }
  },
  {
   "cell_type": "markdown",
   "source": [
    "# ARS healthy reward = 0.95"
   ],
   "metadata": {
    "collapsed": false
   }
  },
  {
   "cell_type": "code",
   "execution_count": 6,
   "outputs": [
    {
     "name": "stdout",
     "output_type": "stream",
     "text": [
      "Mean = 1455.5137831, std = 21.237945120688877\n"
     ]
    }
   ],
   "source": [
    "env = gym.make('Ant-v4')\n",
    "observation, info = env.reset(seed = 2137)\n",
    "\n",
    "model = ARS.load(\"results/ARS/ant_ars_5M_h0.95.zip\", env = env, device = 'cuda', verbose = 1)\n",
    "obs, _ = env.reset()\n",
    "\n",
    "mean, std = evaluate_policy(model, env = model.get_env(), n_eval_episodes = 10, render = False)\n",
    "print(f'Mean = {mean}, std = {std}')"
   ],
   "metadata": {
    "collapsed": false
   }
  },
  {
   "cell_type": "code",
   "execution_count": null,
   "outputs": [],
   "source": [],
   "metadata": {
    "collapsed": false
   }
  }
 ],
 "metadata": {
  "kernelspec": {
   "display_name": "Python 3",
   "language": "python",
   "name": "python3"
  },
  "language_info": {
   "codemirror_mode": {
    "name": "ipython",
    "version": 2
   },
   "file_extension": ".py",
   "mimetype": "text/x-python",
   "name": "python",
   "nbconvert_exporter": "python",
   "pygments_lexer": "ipython2",
   "version": "2.7.6"
  }
 },
 "nbformat": 4,
 "nbformat_minor": 0
}
